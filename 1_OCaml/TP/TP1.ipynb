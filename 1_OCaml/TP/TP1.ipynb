{
 "cells": [
  {
   "cell_type": "markdown",
   "id": "ab777a7b",
   "metadata": {},
   "source": [
    "# Types\n",
    "\n",
    "Devinez le type des fonctions suivantes et vérifier avec OCaml :\n",
    "```ocaml\n",
    "let f x y = x**y\n",
    "```\n",
    "```ocaml\n",
    "let g x y = x (y + 1)\n",
    "```\n",
    "```ocaml\n",
    "let h x y z = x (3. *. (y z)) + 1\n",
    "```\n",
    "Puis utilisez ces fonctions sur des arguments de votre choix."
   ]
  },
  {
   "cell_type": "code",
   "execution_count": 25,
   "id": "c2793691-1165-4efc-a27f-bbb679d7c40c",
   "metadata": {},
   "outputs": [
    {
     "data": {
      "text/plain": [
       "- : float = 8.\n"
      ]
     },
     "execution_count": 25,
     "metadata": {},
     "output_type": "execute_result"
    }
   ],
   "source": [
    "(*1. fonction  puissance:*) \n",
    "let f x y = x**y in\n",
    "f 2.0 3.0"
   ]
  },
  {
   "cell_type": "code",
   "execution_count": 50,
   "id": "b91892b8-57e0-45b6-b585-eca9db76ebee",
   "metadata": {},
   "outputs": [
    {
     "data": {
      "text/plain": [
       "- : float = 12.\n"
      ]
     },
     "execution_count": 50,
     "metadata": {},
     "output_type": "execute_result"
    }
   ],
   "source": [
    "(*2. fonction produit:*)\n",
    "let g x y = x *.( y +. 1.) in\n",
    "g 2. 5."
   ]
  },
  {
   "cell_type": "code",
   "execution_count": 48,
   "id": "897aeb95-5d51-4106-be0e-cb4480f46b4b",
   "metadata": {},
   "outputs": [
    {
     "data": {
      "text/plain": [
       "- : float = 37.\n"
      ]
     },
     "execution_count": 48,
     "metadata": {},
     "output_type": "execute_result"
    }
   ],
   "source": [
    "(* fonction produit:*)\n",
    "let h x y z = x *.(3. *. (y*.z)) +. 1. in\n",
    "let x = 2. in\n",
    "let y = 2. in\n",
    "let z = 3. in\n",
    "h x y z"
   ]
  },
  {
   "cell_type": "markdown",
   "id": "d1f941db",
   "metadata": {},
   "source": [
    "# Tangente hyperbolique\n",
    "\n",
    "Définir en OCaml la fonction $\\tanh : x \\longmapsto \\frac{e^x - e^{-x}}{e^x + e^{-x}}$ en utilisant un seul appel à la fonction `exp : float -> float` de OCaml."
   ]
  },
  {
   "cell_type": "code",
   "execution_count": 70,
   "id": "1daf7106-c1d8-4a37-8134-b2f79d7aea4e",
   "metadata": {},
   "outputs": [
    {
     "ename": "error",
     "evalue": "compile_error",
     "output_type": "error",
     "traceback": [
      "File \"[70]\", line 3, characters 22-36:\n3 |     (f -. 1. /. f) /. (f +. 1. /. f)\n                          ^^^^^^^^^^^^^^\nError: This expression has type float\n       This is not a function; it cannot be applied.\n"
     ]
    }
   ],
   "source": [
    "let tanh x = \n",
    "    let f = exp x in \n",
    "    (f -. 1. /. f) /. (f +. 1. /. f)\n",
    "tanh 2."
   ]
  },
  {
   "cell_type": "markdown",
   "id": "41933741",
   "metadata": {},
   "source": [
    "# Géométrie\n",
    "\n",
    "Le type `float*float` désigne un couple de flottant, représentant un point `p` dans $\\mathbb{R}^2$. On peut récupérer les coordonnées de `p` avec `let x, y = p` . Par exemple :"
   ]
  },
  {
   "cell_type": "code",
   "execution_count": 1,
   "id": "806f1fc7",
   "metadata": {
    "execution": {
     "iopub.execute_input": "2021-09-06T17:02:34.763878Z",
     "iopub.status.busy": "2021-09-06T17:02:34.763495Z",
     "iopub.status.idle": "2021-09-06T17:02:34.765416Z",
     "shell.execute_reply": "2021-09-06T17:02:34.764999Z"
    }
   },
   "outputs": [
    {
     "data": {
      "text/plain": [
       "- : float = 2.1\n"
      ]
     },
     "execution_count": 1,
     "metadata": {},
     "output_type": "execute_result"
    }
   ],
   "source": [
    "let p = (2.1, 3.7) in (* exemple de point *)\n",
    "let x, y = p in (* récupération des coordonnées *)\n",
    "x;; (* affichage de x *)"
   ]
  },
  {
   "cell_type": "markdown",
   "id": "10984cbc",
   "metadata": {},
   "source": [
    "**Exercice** Écrire une fonction `aire_boule : float -> float` telle que `aire_boule r` renvoie l'aire d'une boule (disque en dimension 3) de rayon `r`, c'est à dire $\\frac{4 \\pi r^3}{3}$. On pourra utiliser `Float.pi`."
   ]
  },
  {
   "cell_type": "code",
   "execution_count": 74,
   "id": "cff11c1c-afde-4960-93dd-633e53b34040",
   "metadata": {},
   "outputs": [
    {
     "data": {
      "text/plain": [
       "val aire_boule : float -> float = <fun>\n"
      ]
     },
     "execution_count": 74,
     "metadata": {},
     "output_type": "execute_result"
    }
   ],
   "source": [
    "let aire_boule r = \n",
    "    (4. *. Float.pi *. r**3.) /. 3."
   ]
  },
  {
   "cell_type": "markdown",
   "id": "5e8ad51b",
   "metadata": {},
   "source": [
    "**Exercice** Écrire une fonction `distance : float*float -> float*float -> float` telle que `distance p1 p2` renvoie la distance euclidienne entre les points `p1` et `p2`.  \n",
    "Vérifier que la distance entre $(0, 0)$ et $(1, 1)$ est (approximativement) $\\sqrt{2}$."
   ]
  },
  {
   "cell_type": "code",
   "execution_count": 7,
   "id": "e33bc534-1b08-4838-bb5b-d88ffa90ceee",
   "metadata": {},
   "outputs": [
    {
     "ename": "error",
     "evalue": "compile_error",
     "output_type": "error",
     "traceback": [
      "File \"[7]\", line 7, characters 0-0:\nError: Syntax error\n"
     ]
    }
   ],
   "source": [
    "let p1 = [x1,y1] in\n",
    "let p2 = [x2,y2] in\n",
    "let distance p1 p2 =\n",
    "let x = (x2 -. x1) in\n",
    "let y = (y2 -. y1) in\n",
    "    sqrt ( x**2. +. y**2. )"
   ]
  },
  {
   "cell_type": "markdown",
   "id": "1addbddd",
   "metadata": {},
   "source": [
    "**Exercice** Écrire une fonction `polaire : float*float -> float*float` qui, étant donné les coordonnées polaires $(r, \\theta)$ d'un point, renvoie ses coordonnées cartésiennes $(x, y)$. On rappelle que $x = r\\cos(\\theta)$ et $y = r\\sin(\\theta)$. On pourra utiliser `cos` et `sin` en OCaml."
   ]
  },
  {
   "cell_type": "code",
   "execution_count": 4,
   "id": "aad11302-2f2d-427c-88d4-1aefe8dff871",
   "metadata": {},
   "outputs": [
    {
     "data": {
      "text/plain": [
       "val polaire : float -> float -> float * float = <fun>\n"
      ]
     },
     "execution_count": 4,
     "metadata": {},
     "output_type": "execute_result"
    }
   ],
   "source": [
    "let polaire r teta =\n",
    "     let x = r *. cos (teta)  in\n",
    "    let y = r *. sin (teta) in\n",
    "    (x,y)"
   ]
  },
  {
   "cell_type": "markdown",
   "id": "785b28a3",
   "metadata": {},
   "source": [
    "**Exercice** Écrire une fonction `milieu : float*float -> float*float -> float*float` telle que `milieu p1 p2` renvoie le milieu du segment d'extrémités `p1` et `p2`."
   ]
  },
  {
   "cell_type": "code",
   "execution_count": 9,
   "id": "d4aa8bdf-e7bf-4fc9-930a-02936cd5a013",
   "metadata": {},
   "outputs": [
    {
     "ename": "error",
     "evalue": "compile_error",
     "output_type": "error",
     "traceback": [
      "File \"[9]\", line 7, characters 0-0:\nError: Syntax error\n"
     ]
    }
   ],
   "source": [
    "let p1 = [x1,y1] in\n",
    "let p2 = [x2,y2] in\n",
    "let milieu p1 p2 =\n",
    "    let x = (x1 +. x2) /. 2. in\n",
    "    let y = (y1 +. y2) /. 2. in\n",
    "    x y"
   ]
  },
  {
   "cell_type": "markdown",
   "id": "87cda927",
   "metadata": {},
   "source": [
    "**Exercice** Écrire une fonction `parallelogramme : float*float -> float*float -> float*float -> float*float -> bool` telle que `parallelogramme p1 p2 p3 p4` renvoie `true` si les points `p1`, `p1`, `p1`, `p1` forment un parallélogramme, c'est à dire si les côtés opposés sont (approximativement) de même longueur.  \n",
    "On fera attention à ne pas comparer 2 flottants avec `=`, mais regarder à la place si la différence est petite (< 0.001 par exemple)."
   ]
  },
  {
   "cell_type": "code",
   "execution_count": null,
   "id": "9172dd56-96ed-42db-80c1-10f5d6e2e3bf",
   "metadata": {},
   "outputs": [],
   "source": []
  },
  {
   "cell_type": "markdown",
   "id": "044d6db1",
   "metadata": {},
   "source": [
    "# Congruence\n",
    "\n",
    "Le but de cet exercice est de calculer $1357^{2013}$ mod $5$ (mais la méthode utilisée s'applique dans un grande nombre d'exercices mathématiques).  \n",
    "On rappelle que les congruences sont compatibles avec la puissance :\n",
    "$$a \\equiv b [n] \\Longrightarrow a^k \\equiv b^k [n]$$\n",
    "\n",
    "1. Soit $k$ un entier positif. Que vaut $2^{4k}$ mod $5$? On pourra calculer des valeurs avec OCaml puis le démontrer mathématiquement.\n",
    "2. Que vaut $1357$ mod $5$? En déduire la valeur de $1357^{2013}$ mod $5$."
   ]
  },
  {
   "cell_type": "markdown",
   "id": "95b313f4",
   "metadata": {},
   "source": [
    "# Nombres aléatoires\n",
    "\n",
    "`Random.int n` permet d'obtenir un entier uniformément au hasard entre 0 et `n - 1` (chacun de ces entiers a la même probabilité $\\frac{1}{n}$ d'être obtenu).  \n",
    "Dans cet exercice, on imagine que l'on possède comme seule source aléatoire un dé à 5 faces (c'est à dire que l'on a seulement le droit d'utiliser `Random.int 5`).\n",
    "\n",
    "1. Calculer `(Random.int 5) + (Random.int 5)` plusieurs fois. Est-ce que le résultat vous semble être un entier uniformément au hasard entre 0 et 8?  \n",
    "2. Quelle est la probabilité d'obtenir `0` avec `(Random.int 5) + (Random.int 5)`? D'obtenir `1`? Quelle est l'entier qui a le plus de chances d'apparaître?\n",
    "3. Comment générer uniformément un entier entre 0 et 24? (C'est à dire passer de 5 possibilités à 25)\n",
    "3. Comment générer uniformément un entier entre 0 et 6? Écrire une fonction pour le faire. On utilisera une méthode par rejection (rejection sampling) : générer dans un espace plus grand et regénérer si la valeur n'est pas dans l'intervalle souhaité.  \n",
    "Pour cela on utilisera une boucle while :\n",
    "```ocaml\n",
    "while ... do\n",
    "    ...\n",
    "done\n",
    "```"
   ]
  },
  {
   "cell_type": "code",
   "execution_count": null,
   "id": "656a34cd",
   "metadata": {},
   "outputs": [],
   "source": []
  }
 ],
 "metadata": {
  "kernelspec": {
   "display_name": "OCaml default",
   "language": "OCaml",
   "name": "ocaml-jupyter"
  },
  "language_info": {
   "codemirror_mode": "text/x-ocaml",
   "file_extension": ".ml",
   "mimetype": "text/x-ocaml",
   "name": "OCaml",
   "nbconverter_exporter": null,
   "pygments_lexer": "OCaml",
   "version": "4.08.1"
  }
 },
 "nbformat": 4,
 "nbformat_minor": 5
}
